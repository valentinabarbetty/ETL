{
 "cells": [
  {
   "cell_type": "code",
   "id": "initial_id",
   "metadata": {
    "collapsed": true,
    "ExecuteTime": {
     "end_time": "2024-10-30T03:16:08.932669Z",
     "start_time": "2024-10-30T03:16:08.927285Z"
    }
   },
   "source": [
    "import pandas as pd\n",
    "from sqlalchemy import create_engine\n",
    "import yaml\n"
   ],
   "outputs": [],
   "execution_count": 9
  },
  {
   "cell_type": "markdown",
   "id": "fd9ec8ad",
   "metadata": {},
   "source": [
    "Crear el DataFrame con cada hora del día (0 a 23)\n"
   ]
  },
  {
   "cell_type": "code",
   "id": "0f529f47",
   "metadata": {
    "ExecuteTime": {
     "end_time": "2024-10-30T03:16:18.337295Z",
     "start_time": "2024-10-30T03:16:18.316730Z"
    }
   },
   "source": [
    "dim_tiempo = pd.DataFrame({\n",
    "    \"hora\": pd.date_range(\"00:00\", \"23:00\", freq=\"H\").time\n",
    "})\n",
    "\n",
    "dim_tiempo"
   ],
   "outputs": [
    {
     "data": {
      "text/plain": [
       "        hora\n",
       "0   00:00:00\n",
       "1   01:00:00\n",
       "2   02:00:00\n",
       "3   03:00:00\n",
       "4   04:00:00\n",
       "5   05:00:00\n",
       "6   06:00:00\n",
       "7   07:00:00\n",
       "8   08:00:00\n",
       "9   09:00:00\n",
       "10  10:00:00\n",
       "11  11:00:00\n",
       "12  12:00:00\n",
       "13  13:00:00\n",
       "14  14:00:00\n",
       "15  15:00:00\n",
       "16  16:00:00\n",
       "17  17:00:00\n",
       "18  18:00:00\n",
       "19  19:00:00\n",
       "20  20:00:00\n",
       "21  21:00:00\n",
       "22  22:00:00\n",
       "23  23:00:00"
      ],
      "text/html": [
       "<div>\n",
       "<style scoped>\n",
       "    .dataframe tbody tr th:only-of-type {\n",
       "        vertical-align: middle;\n",
       "    }\n",
       "\n",
       "    .dataframe tbody tr th {\n",
       "        vertical-align: top;\n",
       "    }\n",
       "\n",
       "    .dataframe thead th {\n",
       "        text-align: right;\n",
       "    }\n",
       "</style>\n",
       "<table border=\"1\" class=\"dataframe\">\n",
       "  <thead>\n",
       "    <tr style=\"text-align: right;\">\n",
       "      <th></th>\n",
       "      <th>hora</th>\n",
       "    </tr>\n",
       "  </thead>\n",
       "  <tbody>\n",
       "    <tr>\n",
       "      <th>0</th>\n",
       "      <td>00:00:00</td>\n",
       "    </tr>\n",
       "    <tr>\n",
       "      <th>1</th>\n",
       "      <td>01:00:00</td>\n",
       "    </tr>\n",
       "    <tr>\n",
       "      <th>2</th>\n",
       "      <td>02:00:00</td>\n",
       "    </tr>\n",
       "    <tr>\n",
       "      <th>3</th>\n",
       "      <td>03:00:00</td>\n",
       "    </tr>\n",
       "    <tr>\n",
       "      <th>4</th>\n",
       "      <td>04:00:00</td>\n",
       "    </tr>\n",
       "    <tr>\n",
       "      <th>5</th>\n",
       "      <td>05:00:00</td>\n",
       "    </tr>\n",
       "    <tr>\n",
       "      <th>6</th>\n",
       "      <td>06:00:00</td>\n",
       "    </tr>\n",
       "    <tr>\n",
       "      <th>7</th>\n",
       "      <td>07:00:00</td>\n",
       "    </tr>\n",
       "    <tr>\n",
       "      <th>8</th>\n",
       "      <td>08:00:00</td>\n",
       "    </tr>\n",
       "    <tr>\n",
       "      <th>9</th>\n",
       "      <td>09:00:00</td>\n",
       "    </tr>\n",
       "    <tr>\n",
       "      <th>10</th>\n",
       "      <td>10:00:00</td>\n",
       "    </tr>\n",
       "    <tr>\n",
       "      <th>11</th>\n",
       "      <td>11:00:00</td>\n",
       "    </tr>\n",
       "    <tr>\n",
       "      <th>12</th>\n",
       "      <td>12:00:00</td>\n",
       "    </tr>\n",
       "    <tr>\n",
       "      <th>13</th>\n",
       "      <td>13:00:00</td>\n",
       "    </tr>\n",
       "    <tr>\n",
       "      <th>14</th>\n",
       "      <td>14:00:00</td>\n",
       "    </tr>\n",
       "    <tr>\n",
       "      <th>15</th>\n",
       "      <td>15:00:00</td>\n",
       "    </tr>\n",
       "    <tr>\n",
       "      <th>16</th>\n",
       "      <td>16:00:00</td>\n",
       "    </tr>\n",
       "    <tr>\n",
       "      <th>17</th>\n",
       "      <td>17:00:00</td>\n",
       "    </tr>\n",
       "    <tr>\n",
       "      <th>18</th>\n",
       "      <td>18:00:00</td>\n",
       "    </tr>\n",
       "    <tr>\n",
       "      <th>19</th>\n",
       "      <td>19:00:00</td>\n",
       "    </tr>\n",
       "    <tr>\n",
       "      <th>20</th>\n",
       "      <td>20:00:00</td>\n",
       "    </tr>\n",
       "    <tr>\n",
       "      <th>21</th>\n",
       "      <td>21:00:00</td>\n",
       "    </tr>\n",
       "    <tr>\n",
       "      <th>22</th>\n",
       "      <td>22:00:00</td>\n",
       "    </tr>\n",
       "    <tr>\n",
       "      <th>23</th>\n",
       "      <td>23:00:00</td>\n",
       "    </tr>\n",
       "  </tbody>\n",
       "</table>\n",
       "</div>"
      ]
     },
     "execution_count": 18,
     "metadata": {},
     "output_type": "execute_result"
    }
   ],
   "execution_count": 18
  },
  {
   "cell_type": "markdown",
   "id": "e6d421ad",
   "metadata": {},
   "source": [
    "Añadir una columna para el ID único de cada hora\n"
   ]
  },
  {
   "cell_type": "code",
   "id": "23998efe",
   "metadata": {
    "ExecuteTime": {
     "end_time": "2024-10-30T03:16:08.999411Z",
     "start_time": "2024-10-30T03:16:08.997470Z"
    }
   },
   "source": [
    "dim_tiempo[\"tiempo_id\"] = dim_tiempo.index + 1\n"
   ],
   "outputs": [],
   "execution_count": 11
  },
  {
   "cell_type": "markdown",
   "id": "fe9ebcee",
   "metadata": {},
   "source": [
    "Reorganizar columnas para que Tiempo_id sea la primera\n"
   ]
  },
  {
   "cell_type": "code",
   "id": "77c37631",
   "metadata": {
    "ExecuteTime": {
     "end_time": "2024-10-30T03:16:09.051283Z",
     "start_time": "2024-10-30T03:16:09.047204Z"
    }
   },
   "source": "dim_tiempo = dim_tiempo[[\"tiempo_id\", \"hora\"]]",
   "outputs": [],
   "execution_count": 12
  },
  {
   "cell_type": "markdown",
   "id": "9c6e4591",
   "metadata": {},
   "source": [
    "Cargar configuración de la base de datos desde el archivo YAML\n"
   ]
  },
  {
   "cell_type": "code",
   "id": "ba1d8503",
   "metadata": {
    "ExecuteTime": {
     "end_time": "2024-10-30T03:16:09.068429Z",
     "start_time": "2024-10-30T03:16:09.062967Z"
    }
   },
   "source": [
    "with open('../../configBD/config.yml', 'r') as f:\n",
    "    config = yaml.safe_load(f)\n",
    "    config_etl = config['bodega']"
   ],
   "outputs": [],
   "execution_count": 13
  },
  {
   "cell_type": "markdown",
   "id": "990b52f5",
   "metadata": {},
   "source": [
    "Construir la URL de conexión a la base de datos\n"
   ]
  },
  {
   "cell_type": "code",
   "id": "4cc0396d",
   "metadata": {
    "ExecuteTime": {
     "end_time": "2024-10-30T03:16:09.116792Z",
     "start_time": "2024-10-30T03:16:09.115303Z"
    }
   },
   "source": [
    "url_etl = (f\"{config_etl['driver']}://{config_etl['user']}:{config_etl['password']}@{config_etl['host']}:\"\n",
    "           f\"{config_etl['port']}/{config_etl['db']}\")"
   ],
   "outputs": [],
   "execution_count": 14
  },
  {
   "cell_type": "markdown",
   "id": "9768d7c7",
   "metadata": {},
   "source": [
    "Crear el motor de conexión a la base de datos\n"
   ]
  },
  {
   "cell_type": "code",
   "id": "46499e61",
   "metadata": {
    "ExecuteTime": {
     "end_time": "2024-10-30T03:16:09.123588Z",
     "start_time": "2024-10-30T03:16:09.121486Z"
    }
   },
   "source": [
    "cliente_etl = create_engine(url_etl)"
   ],
   "outputs": [],
   "execution_count": 15
  },
  {
   "cell_type": "markdown",
   "id": "2541c59c",
   "metadata": {},
   "source": [
    "Guardar el DataFrame en la base de datos como la tabla dim_tiempo\n"
   ]
  },
  {
   "cell_type": "code",
   "id": "f280bd33",
   "metadata": {
    "ExecuteTime": {
     "end_time": "2024-10-30T03:16:13.321530Z",
     "start_time": "2024-10-30T03:16:13.270720Z"
    }
   },
   "source": [
    "dim_tiempo.to_sql('dim_tiempo', cliente_etl, if_exists='replace', index=False, index_label='Tiempo_id')\n"
   ],
   "outputs": [
    {
     "data": {
      "text/plain": [
       "24"
      ]
     },
     "execution_count": 17,
     "metadata": {},
     "output_type": "execute_result"
    }
   ],
   "execution_count": 17
  }
 ],
 "metadata": {
  "kernelspec": {
   "display_name": "venv",
   "language": "python",
   "name": "python3"
  },
  "language_info": {
   "codemirror_mode": {
    "name": "ipython",
    "version": 3
   },
   "file_extension": ".py",
   "mimetype": "text/x-python",
   "name": "python",
   "nbconvert_exporter": "python",
   "pygments_lexer": "ipython3",
   "version": "3.12.2"
  }
 },
 "nbformat": 4,
 "nbformat_minor": 5
}
