{
 "cells": [
  {
   "metadata": {},
   "cell_type": "markdown",
   "source": "Importaciones",
   "id": "e5fd8bb87fbbd45d"
  },
  {
   "metadata": {
    "collapsed": true
   },
   "cell_type": "code",
   "outputs": [],
   "execution_count": null,
   "source": [
    "import datetime\n",
    "\n",
    "import numpy as np\n",
    "import pandas as pd\n",
    "import yaml\n",
    "from sqlalchemy import create_engine"
   ],
   "id": "initial_id"
  },
  {
   "metadata": {},
   "cell_type": "markdown",
   "source": "Conexion a la BD",
   "id": "750cc30fd5f0a43a"
  },
  {
   "metadata": {},
   "cell_type": "code",
   "outputs": [],
   "execution_count": null,
   "source": [
    "with open('../../configBD/config.yml', 'r') as f:\n",
    "    config = yaml.safe_load(f)\n",
    "    config_rf = config['rapidofuriosos']\n",
    "    config_etl = config['bodega']"
   ],
   "id": "25ea378b0bd1aa08"
  },
  {
   "metadata": {},
   "cell_type": "code",
   "outputs": [],
   "execution_count": null,
   "source": [
    "# Construct the database URL\n",
    "url_rf = (f\"{config_rf['drivername']}://{config_rf['user']}:{config_rf['password']}@{config_rf['host']}:\"\n",
    "          f\"{config_rf['port']}/{config_rf['dbname']}\")\n",
    "rf_conn = create_engine(url_rf)"
   ],
   "id": "306d892af995de18"
  },
  {
   "metadata": {},
   "cell_type": "code",
   "outputs": [],
   "execution_count": null,
   "source": [
    "url_etl = (f\"{config_etl['drivername']}://{config_etl['user']}:{config_etl['password']}@{config_etl['host']}:\"\n",
    "           f\"{config_etl['port']}/{config_etl['dbname']}\")\n",
    "# Create the SQLAlchemy Engine\n",
    "etl_conn = create_engine(url_etl)"
   ],
   "id": "70c3da9e9255798a"
  },
  {
   "metadata": {},
   "cell_type": "markdown",
   "source": "Extract",
   "id": "bd0bdb75202a7036"
  },
  {
   "metadata": {},
   "cell_type": "code",
   "outputs": [],
   "execution_count": null,
   "source": [
    "#dm_mensajero = pd.read_sql_table('dm_mensajero', etl_conn)\n",
    "#dm_fecha = pd.read_sql_table('dm_fecha', etl_conn)\n",
    "#dm_sede = pd.read_sql_table('dm_sede', co_sa)\n",
    "dm_cliente = pd.read_sql_table('dm_cliente', etl_conn)"
   ],
   "id": "baac4f2a9033bf86"
  },
  {
   "metadata": {},
   "cell_type": "markdown",
   "source": "Transformations",
   "id": "e425b75b20e0a127"
  },
  {
   "metadata": {},
   "cell_type": "code",
   "outputs": [],
   "execution_count": null,
   "source": [
    "hecho_atencion= hecho_atencion.merge(dm_cliente[['key_dim_persona','numero_identificacion']])\n",
    "hecho_atencion.drop(columns=['numero_identificacion'], inplace=True)\n",
    "\n",
    "hecho_atencion= hecho_atencion.merge(dim_medico[['key_dim_medico','cedula','id_ips']])\n",
    "hecho_atencion.drop(columns=['cedula'], inplace=True)\n",
    "\n",
    "hecho_atencion= hecho_atencion.merge(dim_ips[['key_dim_ips','id_ips']])\n",
    "hecho_atencion.drop(columns=['id_ips'], inplace=True)\n",
    "hecho_atencion.head()"
   ],
   "id": "18e59418b761945"
  }
 ],
 "metadata": {
  "kernelspec": {
   "display_name": "Python 3",
   "language": "python",
   "name": "python3"
  },
  "language_info": {
   "codemirror_mode": {
    "name": "ipython",
    "version": 2
   },
   "file_extension": ".py",
   "mimetype": "text/x-python",
   "name": "python",
   "nbconvert_exporter": "python",
   "pygments_lexer": "ipython2",
   "version": "2.7.6"
  }
 },
 "nbformat": 4,
 "nbformat_minor": 5
}
